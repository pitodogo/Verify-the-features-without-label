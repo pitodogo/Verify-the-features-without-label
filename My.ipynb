{
 "cells": [
  {
   "cell_type": "code",
   "execution_count": 1,
   "metadata": {
    "collapsed": false
   },
   "outputs": [],
   "source": [
    "import cv2\n",
    "from os.path import join\n",
    "import numpy as np\n",
    "from os import listdir\n",
    "categories = []\n",
    "data = []\n",
    "for category in listdir(\"data\"):\n",
    "    temp = []\n",
    "    for f in listdir(join(\"data\",category)):\n",
    "        temp.append(cv2.equalizeHist(cv2.imread(join(\"data\",category,f),cv2.CV_LOAD_IMAGE_GRAYSCALE)))\n",
    "    data.append(temp)\n",
    "    categories.append(category)\n",
    "descriptors_orb = []\n",
    "# Detecting SIFT points for all the images\n",
    "descriptors_by_images_orb = []\n",
    "lighting_hist = [[cv2.calcHist(d2,[0],None,[256],[0,256]) for d2 in d] for d in data]\n",
    "labels = []\n",
    "orb = cv2.ORB(edgeThreshold=2)\n",
    "\n",
    "# compute the descriptors with ORB\n",
    "for k,c in enumerate(data):\n",
    "    for img in c:\n",
    "        kp = orb.detect(img,None)\n",
    "        kp, des = orb.compute(img, kp)\n",
    "        temp = []\n",
    "        for d in des:\n",
    "            descriptors_orb.append(d)\n",
    "            temp.append(d)\n",
    "        descriptors_by_images_orb.append(temp)\n",
    "        labels.append(k)\n"
   ]
  },
  {
   "cell_type": "code",
   "execution_count": 2,
   "metadata": {
    "collapsed": false
   },
   "outputs": [],
   "source": []
  },
  {
   "cell_type": "code",
   "execution_count": 3,
   "metadata": {
    "collapsed": false
   },
   "outputs": [
    {
     "data": {
      "text/plain": [
       "KMeans(copy_x=True, init='k-means++', max_iter=300, n_clusters=50, n_init=10,\n",
       "    n_jobs=1, precompute_distances=True, random_state=None, tol=0.0001,\n",
       "    verbose=0)"
      ]
     },
     "execution_count": 3,
     "metadata": {},
     "output_type": "execute_result"
    }
   ],
   "source": [
    "n_clusters = 50\n",
    "from sklearn.cluster import KMeans\n",
    "km = KMeans(n_clusters=n_clusters)\n",
    "km.fit(descriptors_orb)"
   ]
  },
  {
   "cell_type": "code",
   "execution_count": 4,
   "metadata": {
    "collapsed": false
   },
   "outputs": [
    {
     "name": "stderr",
     "output_type": "stream",
     "text": [
      "/home/pitodogo/anaconda/lib/python2.7/site-packages/sklearn/cluster/k_means_.py:797: RuntimeWarning: Got data type uint8, converted to float to avoid overflows\n",
      "  X = self._check_test_data(X)\n"
     ]
    }
   ],
   "source": [
    "hist_by_images = []\n",
    "for desp_set in descriptors_by_images_orb:\n",
    "    hist = [0 for i in range(n_clusters)]\n",
    "    for d in desp_set:\n",
    "        hist[km.predict(d)[0]] += 1\n",
    "    hist_by_images.append(hist)"
   ]
  },
  {
   "cell_type": "code",
   "execution_count": 8,
   "metadata": {
    "collapsed": false
   },
   "outputs": [
    {
     "data": {
      "text/plain": [
       "<matplotlib.legend.Legend at 0x7fcd8dec9050>"
      ]
     },
     "execution_count": 8,
     "metadata": {},
     "output_type": "execute_result"
    },
    {
     "data": {
      "image/png": "[encoded data removed]",
      "text/plain": [
       "<matplotlib.figure.Figure at 0x7fcd8df0e190>"
      ]
     },
     "metadata": {},
     "output_type": "display_data"
    }
   ],
   "source": [
    "from __future__ import division\n",
    "%matplotlib inline\n",
    "normalized_hist_by_images = [np.asarray(h)/sum(h) for h in hist_by_images]\n",
    "from sklearn.decomposition import PCA\n",
    "pca = PCA(n_components=2,whiten=True)\n",
    "pca_hist = pca.fit_transform(np.asarray(normalized_hist_by_images))\n",
    "\n",
    "import matplotlib.pyplot as plt\n",
    "color = [\"red\",\"blue\",\"yellow\",\"green\"]\n",
    "rlt = []\n",
    "for k in range(4):\n",
    "    temp = np.asarray([p for i,p in enumerate(pca_hist) if labels[i]==k])\n",
    "    X = temp[:,1]\n",
    "    Y = temp[:,0]\n",
    "    rlt.append(plt.scatter(X,Y,c=color[k]))\n",
    "plt.legend(rlt,categories,loc=3)\n"
   ]
  },
  {
   "cell_type": "code",
   "execution_count": 3,
   "metadata": {
    "collapsed": false
   },
   "outputs": [],
   "source": [
    "All_Hists = []\n",
    "labels = []\n",
    "color = [\"Red\",\"Yellow\",\"Orange\",\"Indigo\"]\n",
    "for k,hist in enumerate(hist_no_he):\n",
    "    for h in hist:\n",
    "        All_Hists.append(h)\n",
    "        labels.append(k)\n",
    "from sklearn.decomposition import PCA\n",
    "pca = PCA(n_components=2)\n",
    "overall_data = np.reshape(np.asarray(All_Hists),[528,256])\n",
    "pca_histogram = pca.fit_transform(overall_data)\n",
    "results = []\n",
    "import matplotlib.pyplot as plt\n",
    "for k in range(4):\n",
    "    #if(categories[k]!=\"melt\"):\n",
    "    #    continue\n",
    "    temp = np.asarray([h for i,h in enumerate(pca_histogram) if (labels[i]==k)])\n",
    "    X = temp[:,0]\n",
    "    Y = temp[:,1]\n",
    "    results.append(plt.scatter(X,Y,c=color[k]))\n",
    "plt.legend(results,categories)\n",
    "plt.show()\n",
    "    "
   ]
  },
  {
   "cell_type": "code",
   "execution_count": 6,
   "metadata": {
    "collapsed": false
   },
   "outputs": [],
   "source": [
    "from sklearn.decomposition import PCA\n",
    "pca = PCA(n_components=10, whiten=True)\n",
    "pca.fit(overall_data)\n",
    "plt.plot(pca.explained_variance_ratio_)\n",
    "plt.show()"
   ]
  },
  {
   "cell_type": "code",
   "execution_count": null,
   "metadata": {
    "collapsed": false
   },
   "outputs": [],
   "source": []
  },
  {
   "cell_type": "code",
   "execution_count": null,
   "metadata": {
    "collapsed": false
   },
   "outputs": [],
   "source": []
  },
  {
   "cell_type": "code",
   "execution_count": null,
   "metadata": {
    "collapsed": false
   },
   "outputs": [],
   "source": []
  },
  {
   "cell_type": "code",
   "execution_count": null,
   "metadata": {
    "collapsed": true
   },
   "outputs": [],
   "source": []
  }
 ],
 "metadata": {
  "kernelspec": {
   "display_name": "Python 2",
   "language": "python",
   "name": "python2"
  },
  "language_info": {
   "codemirror_mode": {
    "name": "ipython",
    "version": 2
   },
   "file_extension": ".py",
   "mimetype": "text/x-python",
   "name": "python",
   "nbconvert_exporter": "python",
   "pygments_lexer": "ipython2",
   "version": "2.7.9"
  }
 },
 "nbformat": 4,
 "nbformat_minor": 0
}
