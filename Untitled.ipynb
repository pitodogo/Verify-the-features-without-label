{
 "cells": [
  {
   "cell_type": "code",
   "execution_count": 132,
   "metadata": {
    "collapsed": false
   },
   "outputs": [],
   "source": [
    "import cv2\n",
    "from os.path import join\n",
    "import numpy as np\n",
    "from os import listdir\n",
    "categories = []\n",
    "data = []\n",
    "for category in listdir(\"data\"):\n",
    "    temp = []\n",
    "    for f in listdir(join(\"data\",category)):\n",
    "        temp.append(cv2.equalizeHist(cv2.imread(join(\"data\",category,f),cv2.CV_LOAD_IMAGE_GRAYSCALE)))\n",
    "    data.append(temp)\n",
    "    categories.append(category)\n",
    "descriptors = []\n",
    "# Detecting SIFT points for all the images\n",
    "descriptors_by_images = []\n",
    "lighting_hist = [[cv2.calcHist(d2,[0],None,[256],[0,256]) for d2 in d] for d in data]\n",
    "labels = []\n",
    "sift = cv2.SIFT(edgeThreshold=2)\n",
    "for k,c in enumerate(data):\n",
    "    for img in c:\n",
    "        kp, des = sift.detectAndCompute(img,None)\n",
    "        temp = []\n",
    "        for d in des:\n",
    "            descriptors.append(d)\n",
    "            temp.append(d)\n",
    "        descriptors_by_images.append(temp)\n",
    "        labels.append(k)"
   ]
  },
  {
   "cell_type": "code",
   "execution_count": 16,
   "metadata": {
    "collapsed": false
   },
   "outputs": [
    {
     "data": {
      "text/plain": [
       "KMeans(copy_x=True, init='k-means++', max_iter=300, n_clusters=100, n_init=10,\n",
       "    n_jobs=1, precompute_distances=True, random_state=None, tol=0.0001,\n",
       "    verbose=0)"
      ]
     },
     "execution_count": 16,
     "metadata": {},
     "output_type": "execute_result"
    }
   ],
   "source": [
    "from sklearn.cluster import KMeans\n",
    "n_clusters = 100\n",
    "km = KMeans(n_clusters=n_clusters)\n",
    "km.fit(descriptors)"
   ]
  },
  {
   "cell_type": "code",
   "execution_count": 27,
   "metadata": {
    "collapsed": false
   },
   "outputs": [],
   "source": [
    "hist_by_images = []\n",
    "for desp_set in descriptors_by_images:\n",
    "    hist = [0 for i in range(n_clusters)]\n",
    "    for d in desp_set:\n",
    "        hist[km.predict(d)[0]] += 1\n",
    "    hist_by_images.append(hist)"
   ]
  },
  {
   "cell_type": "code",
   "execution_count": 38,
   "metadata": {
    "collapsed": false
   },
   "outputs": [],
   "source": [
    "n_clusters = 100\n",
    "from __future__ import division"
   ]
  },
  {
   "cell_type": "code",
   "execution_count": 40,
   "metadata": {
    "collapsed": false
   },
   "outputs": [],
   "source": [
    "normalized_hist_by_images = [np.asarray(h)/sum(h) for h in hist_by_images]"
   ]
  },
  {
   "cell_type": "code",
   "execution_count": 48,
   "metadata": {
    "collapsed": false
   },
   "outputs": [],
   "source": [
    "from sklearn.decomposition import PCA\n",
    "pca = PCA(n_components=2,whiten=True)\n",
    "pca_hist = pca.fit_transform(np.asarray(normalized_hist_by_images))\n"
   ]
  },
  {
   "cell_type": "code",
   "execution_count": 118,
   "metadata": {
    "collapsed": false
   },
   "outputs": [],
   "source": [
    "import matplotlib.pyplot as plt\n",
    "color = [\"red\",\"blue\",\"yellow\",\"green\"]\n",
    "rlt = []\n",
    "for k in range(4):\n",
    "    temp = np.asarray([p for i,p in enumerate(pca_hist) if labels[i]==k])\n",
    "    X = temp[:,1]\n",
    "    Y = temp[:,0]\n",
    "    rlt.append(plt.scatter(X,Y,c=color[k]))\n",
    "plt.legend(rlt,categories,loc=3)\n",
    "plt.show()"
   ]
  },
  {
   "cell_type": "code",
   "execution_count": 120,
   "metadata": {
    "collapsed": false
   },
   "outputs": [
    {
     "data": {
      "text/plain": [
       "1.0000000000000018"
      ]
     },
     "execution_count": 120,
     "metadata": {},
     "output_type": "execute_result"
    }
   ],
   "source": [
    "pca_hist[:,1].var()"
   ]
  },
  {
   "cell_type": "code",
   "execution_count": 121,
   "metadata": {
    "collapsed": false
   },
   "outputs": [
    {
     "data": {
      "text/plain": [
       "(528, 2)"
      ]
     },
     "execution_count": 121,
     "metadata": {},
     "output_type": "execute_result"
    }
   ],
   "source": [
    "pca_hist.shape"
   ]
  },
  {
   "cell_type": "code",
   "execution_count": 135,
   "metadata": {
    "collapsed": false
   },
   "outputs": [
    {
     "data": {
      "text/plain": [
       "256"
      ]
     },
     "execution_count": 135,
     "metadata": {},
     "output_type": "execute_result"
    }
   ],
   "source": [
    "len(lighting_hist[0][0])"
   ]
  },
  {
   "cell_type": "code",
   "execution_count": null,
   "metadata": {
    "collapsed": true
   },
   "outputs": [],
   "source": []
  }
 ],
 "metadata": {
  "kernelspec": {
   "display_name": "Python 2",
   "language": "python",
   "name": "python2"
  },
  "language_info": {
   "codemirror_mode": {
    "name": "ipython",
    "version": 2
   },
   "file_extension": ".py",
   "mimetype": "text/x-python",
   "name": "python",
   "nbconvert_exporter": "python",
   "pygments_lexer": "ipython2",
   "version": "2.7.9"
  }
 },
 "nbformat": 4,
 "nbformat_minor": 0
}
